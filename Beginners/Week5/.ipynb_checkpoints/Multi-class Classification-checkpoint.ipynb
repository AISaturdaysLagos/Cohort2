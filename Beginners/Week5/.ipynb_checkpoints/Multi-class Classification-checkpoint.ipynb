{
 "cells": [
  {
   "cell_type": "markdown",
   "metadata": {},
   "source": [
    "In this exercise, you will implement multiclass classification using logistic regression with one-vs-all, softmax regression and a neural network"
   ]
  },
  {
   "cell_type": "markdown",
   "metadata": {},
   "source": [
    "# Multi-class Classification\n",
    "\n",
    "In this exercise, you will implement multiclass classification using logistic regression with one-vs-all, softmax regression and a neural network. The goal is to recognize handwritten digits(from 0 to 9)\n",
    "# 1 using one-vs-all\n",
    "### 1.1 Dataset\n",
    "the dataset is in the file ex3data1.mat file in the data folder and contains 5000 training examples of handwritten digits. the .mat format is a native matlab matrix format."
   ]
  },
  {
   "cell_type": "code",
   "execution_count": 1,
   "metadata": {},
   "outputs": [],
   "source": [
    "# import all external libraries\n",
    "\n",
    "import pandas as pd\n",
    "import numpy as np\n",
    "import matplotlib as mpl\n",
    "import matplotlib.pyplot as plt\n",
    "\n",
    "# load MATLAB files\n",
    "from scipy.io import loadmat\n",
    "from scipy.optimize import minimize\n",
    "\n",
    "from sklearn.linear_model import LogisticRegression\n",
    "\n",
    "pd.set_option('display.notebook_repr_html', False)\n",
    "pd.set_option('display.max_columns', None)\n",
    "pd.set_option('display.max_rows', 150)\n",
    "pd.set_option('display.max_seq_items', None)\n",
    " \n",
    "\n",
    "%matplotlib inline"
   ]
  },
  {
   "cell_type": "markdown",
   "metadata": {},
   "source": [
    "### 1.2 Visualizing the data\n"
   ]
  },
  {
   "cell_type": "code",
   "execution_count": 2,
   "metadata": {},
   "outputs": [
    {
     "name": "stdout",
     "output_type": "stream",
     "text": [
      "X: (5000, 401) (with intercept)\n",
      "y: (5000, 1)\n"
     ]
    },
    {
     "data": {
      "image/png": "[encoded data removed]",
      "text/plain": [
       "<Figure size 1440x1080 with 1 Axes>"
      ]
     },
     "metadata": {
      "needs_background": "light"
     },
     "output_type": "display_data"
    }
   ],
   "source": [
    "data = loadmat('data/ex3data1.mat')\n",
    "weights = loadmat('data/ex3weights.mat')\n",
    "\n",
    "y = data['y']\n",
    "\n",
    "# Add constant for intercept\n",
    "X = np.c_[np.ones((data['X'].shape[0],1)), data['X']]\n",
    "\n",
    "print('X: {} (with intercept)'.format(X.shape))\n",
    "print('y: {}'.format(y.shape))\n",
    "\n",
    "sample = np.random.choice(X.shape[0], 20)\n",
    "plt.figure(figsize=(20,15))\n",
    "plt.imshow(X[sample,1:].reshape(-1,20).T, cmap='gray')\n",
    "plt.axis('off');"
   ]
  },
  {
   "cell_type": "code",
   "execution_count": 8,
   "metadata": {},
   "outputs": [
    {
     "data": {
      "text/plain": [
       "(400,)"
      ]
     },
     "execution_count": 8,
     "metadata": {},
     "output_type": "execute_result"
    }
   ],
   "source": [
    "X[2321,1:].shape"
   ]
  },
  {
   "cell_type": "code",
   "execution_count": 11,
   "metadata": {},
   "outputs": [
    {
     "data": {
      "text/plain": [
       "<matplotlib.image.AxesImage at 0x1a24263550>"
      ]
     },
     "execution_count": 11,
     "metadata": {},
     "output_type": "execute_result"
    },
    {
     "data": {
      "image/png": "[encoded data removed]",
      "text/plain": [
       "<Figure size 432x288 with 1 Axes>"
      ]
     },
     "metadata": {
      "needs_background": "light"
     },
     "output_type": "display_data"
    }
   ],
   "source": [
    "plt.imshow(X[2321,1:].reshape(-1,20).T, cmap='gray')"
   ]
  },
  {
   "cell_type": "markdown",
   "metadata": {},
   "source": [
    "### implement the sigmoid function and hypothesis"
   ]
  },
  {
   "cell_type": "code",
   "execution_count": 13,
   "metadata": {},
   "outputs": [],
   "source": [
    "def sigmoid(z):\n",
    "    return(1 / (1 + np.exp(-z)))\n",
    "\n",
    "\n",
    "def hypothesis(X,theta):\n",
    "    h = None\n",
    "    \n",
    "    ######## Your Code #######\n",
    "    \n",
    "    h = sigmoid(X.dot(theta))\n",
    "    \n",
    "    ####### End Code ########\n",
    "    \n",
    "    return h\n",
    "    \n",
    "    "
   ]
  },
  {
   "cell_type": "markdown",
   "metadata": {},
   "source": [
    "### implement the regularized cost function and gradients for logistic regression"
   ]
  },
  {
   "cell_type": "code",
   "execution_count": 14,
   "metadata": {},
   "outputs": [],
   "source": [
    "def lrcostFunctionReg(theta, reg, X, y):\n",
    "    m = y.size\n",
    "    h = sigmoid(X.dot(theta))\n",
    "    J = None\n",
    "    \n",
    "    ############# Your Code #############\n",
    "    \n",
    "    J = -1*(1/m)*(np.log(h).T.dot(y)+np.log(1-h).T.dot(1-y)) + (reg/(2*m))*np.sum(np.square(theta[1:]))\n",
    "    \n",
    "    if np.isnan(J[0]):\n",
    "        return(np.inf)\n",
    "    return(J[0])\n",
    "    ############# End Code ###############\n",
    "    \n",
    "    return J\n",
    "\n",
    "\n",
    "\n",
    "def lrgradientReg(theta, reg, X,y):\n",
    "    m = y.size\n",
    "    h = sigmoid(X.dot(theta.reshape(-1,1)))\n",
    "    grad = None\n",
    "    \n",
    "    ############# Your Code ####################\n",
    "      \n",
    "    grad = (1/m)*X.T.dot(h-y) + (reg/m)*np.r_[[[0]],theta[1:].reshape(-1,1)]\n",
    "        \n",
    "    return(grad.flatten())\n",
    "\n",
    "    ############# End Code ################\n",
    "    return grad"
   ]
  },
  {
   "cell_type": "markdown",
   "metadata": {},
   "source": [
    "## 1.4 One-vs-all Classification\n",
    "In this part you are to implement one-vs-all classification in which you find a hypothesis for each of the classes and then select the class with maximum hypothesis"
   ]
  },
  {
   "cell_type": "code",
   "execution_count": 15,
   "metadata": {},
   "outputs": [],
   "source": [
    "def oneVsAll(features, classes, n_labels, reg):\n",
    "    initial_theta = np.zeros((X.shape[1],1))  # 401x1\n",
    "    all_theta = np.zeros((n_labels, X.shape[1])) #10x401\n",
    "\n",
    "    for c in np.arange(1, n_labels+1):\n",
    "        res = minimize(lrcostFunctionReg, initial_theta, args=(reg, features, (classes == c)*1), method=None,\n",
    "                       jac=lrgradientReg, options={'maxiter':50})\n",
    "        all_theta[c-1] = res.x\n",
    "    return(all_theta)"
   ]
  },
  {
   "cell_type": "code",
   "execution_count": 16,
   "metadata": {},
   "outputs": [],
   "source": [
    "theta = oneVsAll(X, y, 10, 0.1)"
   ]
  },
  {
   "cell_type": "markdown",
   "metadata": {},
   "source": [
    "### 1.4.1 One-vs-all Prediction\n",
    "You can now use the one-vs-all classifier to predict the digit contained in a given image."
   ]
  },
  {
   "cell_type": "code",
   "execution_count": 17,
   "metadata": {},
   "outputs": [],
   "source": [
    "def predictOneVsAll(all_theta, features):\n",
    "    probs = sigmoid(X.dot(all_theta.T))\n",
    "        \n",
    "    # Adding one because Python uses zero based indexing for the 10 columns (0-9),\n",
    "    # while the 10 classes are numbered from 1 to 10.\n",
    "    return(np.argmax(probs, axis=1)+1)\n"
   ]
  },
  {
   "cell_type": "code",
   "execution_count": 18,
   "metadata": {},
   "outputs": [
    {
     "name": "stdout",
     "output_type": "stream",
     "text": [
      "Training set accuracy: 93.24 %\n"
     ]
    }
   ],
   "source": [
    "pred = predictOneVsAll(theta, X)\n",
    "print('Training set accuracy: {} %'.format(np.mean(pred == y.ravel())*100))"
   ]
  },
  {
   "cell_type": "markdown",
   "metadata": {},
   "source": [
    "\n"
   ]
  },
  {
   "cell_type": "code",
   "execution_count": 48,
   "metadata": {},
   "outputs": [
    {
     "data": {
      "text/plain": [
       "<matplotlib.image.AxesImage at 0x1a27512978>"
      ]
     },
     "execution_count": 48,
     "metadata": {},
     "output_type": "execute_result"
    },
    {
     "data": {
      "image/png": "[encoded data removed]",
      "text/plain": [
       "<Figure size 432x288 with 1 Axes>"
      ]
     },
     "metadata": {
      "needs_background": "light"
     },
     "output_type": "display_data"
    }
   ],
   "source": [
    "# Let's check our 1000th example\n",
    "plt.imshow(X[1000, 1:].reshape(-1,20).T, cmap='gray')"
   ]
  },
  {
   "cell_type": "code",
   "execution_count": 49,
   "metadata": {},
   "outputs": [
    {
     "data": {
      "text/plain": [
       "2"
      ]
     },
     "execution_count": 49,
     "metadata": {},
     "output_type": "execute_result"
    }
   ],
   "source": [
    "# What does our prediction says\n",
    "pred[1000]"
   ]
  },
  {
   "cell_type": "code",
   "execution_count": 50,
   "metadata": {},
   "outputs": [
    {
     "data": {
      "text/plain": [
       "array([2], dtype=uint8)"
      ]
     },
     "execution_count": 50,
     "metadata": {},
     "output_type": "execute_result"
    }
   ],
   "source": [
    "# What is our true label?\n",
    "y[1000]"
   ]
  },
  {
   "cell_type": "code",
   "execution_count": 52,
   "metadata": {},
   "outputs": [],
   "source": [
    "l = pred == y.ravel()"
   ]
  },
  {
   "cell_type": "code",
   "execution_count": 61,
   "metadata": {},
   "outputs": [
    {
     "data": {
      "text/plain": [
       "array([10], dtype=uint8)"
      ]
     },
     "execution_count": 61,
     "metadata": {},
     "output_type": "execute_result"
    }
   ],
   "source": [
    "y[103]"
   ]
  },
  {
   "cell_type": "code",
   "execution_count": 62,
   "metadata": {},
   "outputs": [
    {
     "data": {
      "text/plain": [
       "5"
      ]
     },
     "execution_count": 62,
     "metadata": {},
     "output_type": "execute_result"
    }
   ],
   "source": [
    "pred[103]"
   ]
  },
  {
   "cell_type": "code",
   "execution_count": 63,
   "metadata": {},
   "outputs": [
    {
     "data": {
      "text/plain": [
       "<matplotlib.image.AxesImage at 0x1a2547d400>"
      ]
     },
     "execution_count": 63,
     "metadata": {},
     "output_type": "execute_result"
    },
    {
     "data": {
      "image/png": "[encoded data removed]",
      "text/plain": [
       "<Figure size 432x288 with 1 Axes>"
      ]
     },
     "metadata": {
      "needs_background": "light"
     },
     "output_type": "display_data"
    }
   ],
   "source": [
    "plt.imshow(X[103, 1:].reshape(-1,20).T, cmap='gray')"
   ]
  },
  {
   "cell_type": "code",
   "execution_count": 60,
   "metadata": {},
   "outputs": [
    {
     "data": {
      "text/plain": [
       "(array([ 103,  142,  265,  286,  521,  531,  561,  569,  650,  653,  659,\n",
       "         675,  765,  818,  844,  884,  952, 1006, 1015, 1025, 1026, 1041,\n",
       "        1045, 1057, 1062, 1081, 1087, 1090, 1097, 1103, 1112, 1125, 1130,\n",
       "        1145, 1153, 1155, 1163, 1169, 1185, 1187, 1189, 1207, 1213, 1231,\n",
       "        1267, 1271, 1292, 1311, 1362, 1363, 1368, 1383, 1394, 1399, 1408,\n",
       "        1410, 1412, 1413, 1421, 1423, 1440, 1453, 1476, 1479, 1484, 1488,\n",
       "        1494, 1498, 1524, 1550, 1556, 1563, 1564, 1570, 1588, 1599, 1602,\n",
       "        1607, 1611, 1617, 1618, 1620, 1626, 1628, 1629, 1630, 1700, 1701,\n",
       "        1707, 1725, 1732, 1757, 1760, 1763, 1764, 1766, 1776, 1791, 1798,\n",
       "        1801, 1804, 1876, 1879, 1898, 1905, 1923, 1936, 1945, 1958, 1959,\n",
       "        1963, 1970, 1972, 1976, 1979, 1981, 1999, 2078, 2087, 2093, 2104,\n",
       "        2110, 2112, 2118, 2166, 2171, 2187, 2194, 2195, 2201, 2217, 2238,\n",
       "        2240, 2270, 2277, 2286, 2304, 2314, 2334, 2352, 2361, 2384, 2393,\n",
       "        2414, 2424, 2452, 2467, 2498, 2505, 2506, 2516, 2520, 2533, 2549,\n",
       "        2556, 2564, 2570, 2574, 2578, 2580, 2583, 2593, 2598, 2599, 2601,\n",
       "        2606, 2607, 2610, 2616, 2618, 2620, 2654, 2680, 2697, 2698, 2704,\n",
       "        2718, 2739, 2752, 2788, 2790, 2796, 2840, 2850, 2857, 2906, 2907,\n",
       "        2908, 2920, 2943, 2947, 2952, 2958, 2965, 2977, 2984, 2992, 2995,\n",
       "        3043, 3048, 3060, 3078, 3081, 3174, 3204, 3236, 3328, 3341, 3351,\n",
       "        3382, 3400, 3436, 3480, 3485, 3515, 3521, 3537, 3563, 3595, 3616,\n",
       "        3619, 3627, 3629, 3633, 3634, 3660, 3664, 3668, 3687, 3692, 3701,\n",
       "        3722, 3725, 3732, 3767, 3795, 3823, 3830, 3838, 3853, 3877, 3895,\n",
       "        3908, 3909, 3937, 3955, 3972, 4012, 4032, 4041, 4045, 4051, 4057,\n",
       "        4069, 4076, 4100, 4110, 4125, 4140, 4168, 4177, 4183, 4197, 4202,\n",
       "        4231, 4237, 4248, 4250, 4252, 4254, 4256, 4265, 4276, 4294, 4306,\n",
       "        4307, 4319, 4325, 4343, 4362, 4367, 4379, 4384, 4393, 4395, 4415,\n",
       "        4422, 4428, 4442, 4455, 4460, 4471, 4477, 4503, 4506, 4509, 4519,\n",
       "        4529, 4531, 4537, 4553, 4568, 4581, 4582, 4590, 4593, 4612, 4627,\n",
       "        4636, 4639, 4655, 4656, 4672, 4708, 4736, 4752, 4769, 4774, 4781,\n",
       "        4783, 4793, 4799, 4801, 4810, 4833, 4844, 4853, 4860, 4863, 4865,\n",
       "        4902, 4906, 4930, 4936, 4938, 4944, 4990, 4999]),)"
      ]
     },
     "execution_count": 60,
     "metadata": {},
     "output_type": "execute_result"
    }
   ],
   "source": [
    "np.where(l==False)"
   ]
  },
  {
   "cell_type": "markdown",
   "metadata": {},
   "source": [
    "# 3 Neural Networks\n",
    "You are now to implement multiclass classification using a neural network. logistic regression is only a linear classifier and cannot form a more complex hypothesis. \n",
    "\n",
    "### 3.1 Model representation\n",
    "The model used is a 2 unit neural network with 25 hidden units. Hence the parameter/weight matrix for the first layer is 25 x 401, and that for the second layer is 10 x 401. <br/><br/>\n",
    "\n",
    "The neural network model has already been trained using backpropagation all you have to do is to load the trained weights and use that to make predictions using forward propagation.\n"
   ]
  },
  {
   "cell_type": "code",
   "execution_count": 64,
   "metadata": {},
   "outputs": [
    {
     "name": "stdout",
     "output_type": "stream",
     "text": [
      "theta1: (25, 401)\n",
      "theta2: (10, 26)\n"
     ]
    }
   ],
   "source": [
    "weights = loadmat('data/ex3weights.mat')\n",
    "weights.keys()\n",
    "\n",
    "theta1, theta2 = weights['Theta1'], weights['Theta2']\n",
    "\n",
    "print('theta1: {}'.format(theta1.shape))\n",
    "print('theta2: {}'.format(theta2.shape))\n"
   ]
  },
  {
   "cell_type": "markdown",
   "metadata": {},
   "source": [
    "### 2.2 Feedforward Propagation and Prediction"
   ]
  },
  {
   "cell_type": "code",
   "execution_count": null,
   "metadata": {},
   "outputs": [],
   "source": [
    "def predict(X, theta1, theta2):\n",
    "    z2 = theta1.dot(X.T)\n",
    "    a2 = np.c_[np.ones((data['X'].shape[0],1)), sigmoid(z2).T]\n",
    "    \n",
    "    z3 = a2.dot(theta2.T)\n",
    "    a3 = sigmoid(z3)\n",
    "        \n",
    "    return(np.argmax(a3, axis=1)+1)"
   ]
  },
  {
   "cell_type": "code",
   "execution_count": null,
   "metadata": {},
   "outputs": [],
   "source": [
    "pred = predict(X,theta1, theta2)\n",
    "print('Training set accuracy: {} %'.format(np.mean(pred == y.ravel())*100))"
   ]
  },
  {
   "cell_type": "markdown",
   "metadata": {},
   "source": [
    "# Using Scikit-learn"
   ]
  },
  {
   "cell_type": "code",
   "execution_count": null,
   "metadata": {},
   "outputs": [],
   "source": [
    "clf = LogisticRegression(C=10, penalty='l2', solver='liblinear')\n",
    "clf.fit(X[:,1:],y.ravel())\n",
    "\n",
    "pred2 = clf.predict(X[:,1:])\n",
    "print('Training set accuracy: {} %'.format(np.mean(pred2 == y.ravel())*100))"
   ]
  },
  {
   "cell_type": "code",
   "execution_count": null,
   "metadata": {},
   "outputs": [],
   "source": []
  }
 ],
 "metadata": {
  "kernelspec": {
   "display_name": "Python 3",
   "language": "python",
   "name": "python3"
  },
  "language_info": {
   "codemirror_mode": {
    "name": "ipython",
    "version": 3
   },
   "file_extension": ".py",
   "mimetype": "text/x-python",
   "name": "python",
   "nbconvert_exporter": "python",
   "pygments_lexer": "ipython3",
   "version": "3.6.6"
  }
 },
 "nbformat": 4,
 "nbformat_minor": 2
}
