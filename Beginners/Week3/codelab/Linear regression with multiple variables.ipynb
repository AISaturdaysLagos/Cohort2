{
 "cells": [
  {
   "cell_type": "markdown",
   "metadata": {},
   "source": [
    "\n",
    "<br/><br/><br/>\n",
    "## 2. Linear regression with multiple variables\n",
    "\n",
    "\n",
    "In this part, you will implement linear regression with multiple variables to\n",
    "predict the prices of houses. You want to predict the price of a house given its size and number of bedrooms. To achieve this, you need to train a model on data collected on housing prices given its size and number of bedrooms.\n",
    "\n",
    "The file ex1data2.txt contains a training set of housing prices in Portland, Oregon. The first column is the size of the house (in square feet), the\n",
    "second column is the number of bedrooms, and the third column is the price\n",
    "of the house.\n",
    "\n",
    "\n"
   ]
  },
  {
   "cell_type": "code",
   "execution_count": 1,
   "metadata": {},
   "outputs": [],
   "source": [
    "import numpy as np\n",
    "import pandas as pd\n",
    "import matplotlib.pyplot as plt"
   ]
  },
  {
   "cell_type": "code",
   "execution_count": 10,
   "metadata": {},
   "outputs": [
    {
     "data": {
      "text/html": [
       "<div>\n",
       "<style scoped>\n",
       "    .dataframe tbody tr th:only-of-type {\n",
       "        vertical-align: middle;\n",
       "    }\n",
       "\n",
       "    .dataframe tbody tr th {\n",
       "        vertical-align: top;\n",
       "    }\n",
       "\n",
       "    .dataframe thead th {\n",
       "        text-align: right;\n",
       "    }\n",
       "</style>\n",
       "<table border=\"1\" class=\"dataframe\">\n",
       "  <thead>\n",
       "    <tr style=\"text-align: right;\">\n",
       "      <th></th>\n",
       "      <th>size</th>\n",
       "      <th>bedroom</th>\n",
       "      <th>price</th>\n",
       "    </tr>\n",
       "  </thead>\n",
       "  <tbody>\n",
       "    <tr>\n",
       "      <th>0</th>\n",
       "      <td>2104</td>\n",
       "      <td>3</td>\n",
       "      <td>399900</td>\n",
       "    </tr>\n",
       "    <tr>\n",
       "      <th>1</th>\n",
       "      <td>1600</td>\n",
       "      <td>3</td>\n",
       "      <td>329900</td>\n",
       "    </tr>\n",
       "    <tr>\n",
       "      <th>2</th>\n",
       "      <td>2400</td>\n",
       "      <td>3</td>\n",
       "      <td>369000</td>\n",
       "    </tr>\n",
       "    <tr>\n",
       "      <th>3</th>\n",
       "      <td>1416</td>\n",
       "      <td>2</td>\n",
       "      <td>232000</td>\n",
       "    </tr>\n",
       "    <tr>\n",
       "      <th>4</th>\n",
       "      <td>3000</td>\n",
       "      <td>4</td>\n",
       "      <td>539900</td>\n",
       "    </tr>\n",
       "  </tbody>\n",
       "</table>\n",
       "</div>"
      ],
      "text/plain": [
       "   size  bedroom   price\n",
       "0  2104        3  399900\n",
       "1  1600        3  329900\n",
       "2  2400        3  369000\n",
       "3  1416        2  232000\n",
       "4  3000        4  539900"
      ]
     },
     "execution_count": 10,
     "metadata": {},
     "output_type": "execute_result"
    }
   ],
   "source": [
    "# Load Data\n",
    "data = pd.read_csv('data/ex1data2.txt', names=['size','bedroom','price']);\n",
    "X = data.iloc[:, :2].values;\n",
    "y = data.iloc[:, 2].values;\n",
    "m = len(y);\n",
    "\n",
    "data.head()"
   ]
  },
  {
   "cell_type": "code",
   "execution_count": 43,
   "metadata": {},
   "outputs": [
    {
     "data": {
      "text/plain": [
       "array([2000.68085106,    3.17021277])"
      ]
     },
     "execution_count": 43,
     "metadata": {},
     "output_type": "execute_result"
    }
   ],
   "source": [
    "mu"
   ]
  },
  {
   "cell_type": "code",
   "execution_count": 44,
   "metadata": {},
   "outputs": [
    {
     "data": {
      "text/plain": [
       "array([7.86202619e+02, 7.52842809e-01])"
      ]
     },
     "execution_count": 44,
     "metadata": {},
     "output_type": "execute_result"
    }
   ],
   "source": [
    "sigma"
   ]
  },
  {
   "cell_type": "code",
   "execution_count": 3,
   "metadata": {},
   "outputs": [
    {
     "data": {
      "text/plain": [
       "(47, 3)"
      ]
     },
     "execution_count": 3,
     "metadata": {},
     "output_type": "execute_result"
    }
   ],
   "source": [
    "data.shape"
   ]
  },
  {
   "cell_type": "code",
   "execution_count": 20,
   "metadata": {},
   "outputs": [],
   "source": [
    "thet = np.array([1,2,3])"
   ]
  },
  {
   "cell_type": "code",
   "execution_count": 22,
   "metadata": {},
   "outputs": [
    {
     "data": {
      "text/plain": [
       "(3,)"
      ]
     },
     "execution_count": 22,
     "metadata": {},
     "output_type": "execute_result"
    }
   ],
   "source": [
    "#thet.reshape([-1,1]).shape\n",
    "thet.shape"
   ]
  },
  {
   "cell_type": "code",
   "execution_count": 23,
   "metadata": {},
   "outputs": [
    {
     "data": {
      "text/plain": [
       "(3, 3)"
      ]
     },
     "execution_count": 23,
     "metadata": {},
     "output_type": "execute_result"
    }
   ],
   "source": [
    "x = np.array([[1,3,4],[1,2,1],[1,5,2]])\n",
    "x.shape"
   ]
  },
  {
   "cell_type": "code",
   "execution_count": 24,
   "metadata": {},
   "outputs": [
    {
     "data": {
      "text/plain": [
       "array([19,  8, 17])"
      ]
     },
     "execution_count": 24,
     "metadata": {},
     "output_type": "execute_result"
    }
   ],
   "source": [
    "np.dot(x,thet)"
   ]
  },
  {
   "cell_type": "code",
   "execution_count": 4,
   "metadata": {},
   "outputs": [],
   "source": [
    "def h_of_x(X, theta):\n",
    "    return np.dot(X,theta)"
   ]
  },
  {
   "cell_type": "code",
   "execution_count": 25,
   "metadata": {},
   "outputs": [],
   "source": [
    "def computeCostMulti(X, y, theta):\n",
    "    m = len(y)\n",
    "    J = (np.sum((np.dot(X,theta) - y)**2))/(2*m)\n",
    "    return J"
   ]
  },
  {
   "cell_type": "code",
   "execution_count": 28,
   "metadata": {},
   "outputs": [
    {
     "data": {
      "text/plain": [
       "array([0., 0.])"
      ]
     },
     "execution_count": 28,
     "metadata": {},
     "output_type": "execute_result"
    }
   ],
   "source": [
    "f = np.zeros(2)\n",
    "f"
   ]
  },
  {
   "cell_type": "markdown",
   "metadata": {},
   "source": [
    "### 2.1 Feature Normalization\n"
   ]
  },
  {
   "cell_type": "code",
   "execution_count": 29,
   "metadata": {},
   "outputs": [],
   "source": [
    "def\tfeatureNormalize(X):\n",
    "\n",
    "    X_norm = X.copy()\n",
    "    mu = np.zeros(X.shape[1])\n",
    "    sigma = np.zeros(X.shape[1])\n",
    "\n",
    "    #======================\n",
    "\n",
    "    mu = np.mean(X,axis=0)\n",
    "    sigma = np.std(X,axis=0)\n",
    "    X_norm = np.divide((X - mu),sigma)\n",
    "\n",
    "    #====================\n",
    "    return X_norm, mu, sigma\n",
    "\n"
   ]
  },
  {
   "cell_type": "code",
   "execution_count": 30,
   "metadata": {},
   "outputs": [
    {
     "name": "stdout",
     "output_type": "stream",
     "text": [
      "Normalizing Features ...\n",
      "[mu] [sigma]\n",
      "[2000.68085106    3.17021277] [7.86202619e+02 7.52842809e-01]\n"
     ]
    }
   ],
   "source": [
    "# Scale features and set them to zero mean\n",
    "print ('Normalizing Features ...')\n",
    "X, mu, sigma = featureNormalize(X)\n",
    "print ('[mu] [sigma]')\n",
    "print (mu, sigma)\n",
    "\n",
    "# Add intercept term to X\n",
    "X = np.concatenate((np.ones((m, 1)), X), axis=1)"
   ]
  },
  {
   "cell_type": "markdown",
   "metadata": {},
   "source": [
    "### 2.2 Gradient Descent\n",
    "\n",
    "\n",
    "**Implementation Note:** In the multivariate case, the cost function can\n",
    "also be written in the following vectorized form:\n",
    "$$J(\\theta) = \\frac{1}{2m}(X\\theta-\\vec{y})^T (X\\theta-\\vec{y})$$\n",
    "\n",
    "$$X = \n",
    "\\begin{bmatrix}\n",
    "....(x^{(1)})^T....\\\\\n",
    "....(x^{(2)})^T....\\\\\n",
    ".  \\\\\n",
    ".  \\\\\n",
    ". \\\\\n",
    "....(x^{(m)})^T....\n",
    "\\end{bmatrix}, \\ \\ \\ \\ \\ \\ \\ \\ \\  \n",
    "\\vec{y} = \n",
    "\\begin{bmatrix}\n",
    "y^{(1)}\\\\\n",
    "y^{(2)}\\\\\n",
    ".\\\\\n",
    ". \\\\\n",
    ".\\\\\n",
    "y^{(m)}\n",
    "\\end{bmatrix}$$\n",
    "\n"
   ]
  },
  {
   "cell_type": "code",
   "execution_count": 32,
   "metadata": {},
   "outputs": [],
   "source": [
    "def gradientDescentMulti(X, y, theta, alpha, num_iters):\n",
    "    m = len(y); # number of training examples\n",
    "    J_history = np.zeros([num_iters, 1]);\n",
    "\n",
    "    for iter in range(num_iters):\n",
    "        #============ Your code here =============\n",
    "        #theta = theta - (alpha/m)*np.sum((h_of_x(X,theta)-y)[:,None]*X,axis=0)\n",
    "        \n",
    "        theta = theta - (alpha/m)*(np.dot(X.T,(h_of_x(X,theta)-y)))\n",
    "        \n",
    "        #==================================\n",
    "        J_history[iter] = computeCostMulti(X, y, theta)\n",
    "        \n",
    "\n",
    "\n",
    "\n",
    "    return theta, J_history\n"
   ]
  },
  {
   "cell_type": "code",
   "execution_count": 33,
   "metadata": {},
   "outputs": [
    {
     "name": "stdout",
     "output_type": "stream",
     "text": [
      "(47,)\n",
      "(47,)\n"
     ]
    }
   ],
   "source": [
    "print(y.shape)\n",
    "print(h_of_x(X,np.zeros(3)).shape)"
   ]
  },
  {
   "cell_type": "code",
   "execution_count": 34,
   "metadata": {},
   "outputs": [
    {
     "name": "stdout",
     "output_type": "stream",
     "text": [
      "Running gradient descent ...\n"
     ]
    }
   ],
   "source": [
    "# Choose some alpha value\n",
    "alpha = 0.01\n",
    "num_iters = 400\n",
    "\n",
    "def gd(alpha):\n",
    "    print ('Running gradient descent ...')\n",
    "    # Init Theta and Run Gradient Descent \n",
    "    thet = np.zeros(3)\n",
    "    thet, J_history = gradientDescentMulti(X, y, thet, alpha, num_iters)\n",
    "    \n",
    "    return thet, J_history\n",
    "\n",
    "thet, J_history = gd(alpha)"
   ]
  },
  {
   "cell_type": "markdown",
   "metadata": {},
   "source": [
    "### 2.3 Selecting learning rates\n",
    "In this part of the exercise, you will get to try out different learning rates for\n",
    "the dataset and find a learning rate that converges quickly. We rec-\n",
    "ommend trying values of the learning rate $\\alpha$ on a log-scale, at multiplicative\n",
    "steps of about 3 times the previous value (i.e., 0.3, 0.1, 0.03, 0.01 and so on).\n",
    "You may also want to adjust the number of iterations you are running if that\n",
    "will help you see the overall trend in the curve."
   ]
  },
  {
   "cell_type": "code",
   "execution_count": 39,
   "metadata": {},
   "outputs": [
    {
     "name": "stdout",
     "output_type": "stream",
     "text": [
      "Running gradient descent ...\n",
      "Running gradient descent ...\n",
      "Running gradient descent ...\n",
      "Running gradient descent ...\n",
      "Running gradient descent ...\n"
     ]
    },
    {
     "name": "stderr",
     "output_type": "stream",
     "text": [
      "/usr/local/lib/python3.6/dist-packages/ipykernel_launcher.py:3: RuntimeWarning: overflow encountered in square\n",
      "  This is separate from the ipykernel package so we can avoid doing imports until\n",
      "/usr/local/lib/python3.6/dist-packages/numpy/core/_methods.py:32: RuntimeWarning: overflow encountered in reduce\n",
      "  return umr_sum(a, axis, dtype, out, keepdims)\n"
     ]
    },
    {
     "data": {
      "image/png": "[encoded data removed]",
      "text/plain": [
       "<Figure size 1080x432 with 5 Axes>"
      ]
     },
     "metadata": {
      "needs_background": "light"
     },
     "output_type": "display_data"
    }
   ],
   "source": [
    "# Choose some alpha value\n",
    "alphas = [0.001,0.1,0,.0001,3]\n",
    "thetas = []\n",
    "num_iters = 400\n",
    "\n",
    "def costs():\n",
    "    J = []\n",
    "    for i in alphas:\n",
    "        alpha = i\n",
    "        thet, j = gd(i)\n",
    "        J.append(j)\n",
    "        thetas.append(thet)\n",
    "    return J\n",
    "\n",
    "J_hists = costs()\n",
    "\n",
    "axs = []\n",
    "fig = plt.figure(figsize=(15,6))\n",
    "for i in range(len(J_hists)):\n",
    "    axs.append(fig.add_subplot('22'+str(i)))\n",
    "    axs[-1].plot(J_hists[i])\n",
    "    axs[-1].set_xlabel('Number of iterations')\n",
    "    axs[-1].set_ylabel('Cost J')\n",
    "    #axs[-1].title = str(alphas[i])\n",
    "    plt.show\n",
    "\n",
    "    \n"
   ]
  },
  {
   "cell_type": "code",
   "execution_count": 41,
   "metadata": {},
   "outputs": [
    {
     "data": {
      "text/plain": [
       "array([334302.06399328,  99411.44947359,   3267.01285407])"
      ]
     },
     "execution_count": 41,
     "metadata": {},
     "output_type": "execute_result"
    }
   ],
   "source": [
    "thet"
   ]
  },
  {
   "cell_type": "markdown",
   "metadata": {},
   "source": [
    "Now make a prediction for a house with 1650 square feet and\n",
    "3 bedrooms"
   ]
  },
  {
   "cell_type": "code",
   "execution_count": 46,
   "metadata": {},
   "outputs": [
    {
     "name": "stdout",
     "output_type": "stream",
     "text": [
      "Theta computed from gradient descent: \n",
      "[334302.06399328  99411.44947359   3267.01285407]\n",
      "Predicted price of a 1650 sq-ft, 3 br house\n",
      "using gradient descent: \n",
      "[289221.54737122]\n"
     ]
    }
   ],
   "source": [
    "print ('Theta computed from gradient descent: ')\n",
    "print (thet)\n",
    "\n",
    "price = None\n",
    "# Estimate the price of a 1650 sq-ft, 3 br house\n",
    "####### START CODE ###########\n",
    "\n",
    "example = np.array([[1, 1650, 3]])   # the test example\n",
    "example_norm = np.ones(example.shape)  # a variable is initialized with an array of ones of same shape as the test example\n",
    "                                        # this variable will hold the normalized features\n",
    "    \n",
    "    \n",
    "example_norm.dtype = np.float # Note that the array datatype must be float32 and not int\n",
    "    \n",
    "    \n",
    "# apply feature scaling and normalization\n",
    "example_norm[:, 1:] = np.divide((example[:, 1:] - mu),sigma)\n",
    "\n",
    "\n",
    "# Now make predictions\n",
    "price = h_of_x(example_norm, thet)\n",
    "\n",
    "####### END CODE ############\n",
    "\n",
    "print ('Predicted price of a 1650 sq-ft, 3 br house')\n",
    "print ('using gradient descent: ')\n",
    "print (price)"
   ]
  },
  {
   "cell_type": "code",
   "execution_count": 52,
   "metadata": {},
   "outputs": [
    {
     "data": {
      "text/plain": [
       "array([13348.4254743 ,  4123.80633168,  2099.41753612])"
      ]
     },
     "execution_count": 52,
     "metadata": {},
     "output_type": "execute_result"
    }
   ],
   "source": [
    "thetas[3]"
   ]
  },
  {
   "cell_type": "code",
   "execution_count": 86,
   "metadata": {},
   "outputs": [
    {
     "data": {
      "text/plain": [
       "array([[-0.44604385, -0.22609337]], dtype=float32)"
      ]
     },
     "execution_count": 86,
     "metadata": {},
     "output_type": "execute_result"
    }
   ],
   "source": [
    "example_norm[:, 1:]"
   ]
  },
  {
   "cell_type": "markdown",
   "metadata": {},
   "source": [
    "### 3.3 Normal Equations\n",
    "\n",
    "$$\\theta = (X^TX)^{-1}X^T\\vec{y}$$\n",
    "\n",
    "Using this formula does not require any feature scaling, and you will get\n",
    "an exact solution in one calculation: there is no \\loop until convergence\" like\n",
    "in gradient descent.\n",
    "\n",
    "Complete the code in normaleqn.py to use the formula above to calcu-\n",
    "late $\\theta$. Remember that while you don't need to scale your features, we still\n",
    "need to add a column of 1's to the X matrix to have an intercept term"
   ]
  },
  {
   "cell_type": "code",
   "execution_count": 53,
   "metadata": {},
   "outputs": [],
   "source": [
    "def normalEqn(X,y):\n",
    "\n",
    "    \n",
    "    return np.dot((np.linalg.inv(np.dot(X.T,X))),np.dot(X.T,y))"
   ]
  },
  {
   "cell_type": "code",
   "execution_count": 54,
   "metadata": {},
   "outputs": [
    {
     "name": "stdout",
     "output_type": "stream",
     "text": [
      "Solving with normal equations...\n",
      "Theta computed from the normal equations:\n",
      " [340412.65957447 109447.79646964  -6578.35485416] \n",
      "\n"
     ]
    }
   ],
   "source": [
    "print ('Solving with normal equations...')\n",
    "\n",
    "# Calculate the parameters from the normal equation\n",
    "\n",
    "theta = normalEqn(X, y)\n",
    "\n",
    "# Display normal equation's result\n",
    "print ('Theta computed from the normal equations:')\n",
    "print (' %s \\n' % theta)"
   ]
  },
  {
   "cell_type": "markdown",
   "metadata": {},
   "source": [
    "Now, since you have found $\\theta$ using normal equation\n",
    "method, use it to make a price prediction for a 1650-square-foot house with\n",
    "3 bedrooms. You should find that gives the same predicted price as the value\n",
    "you obtained using the model fit with gradient descent."
   ]
  },
  {
   "cell_type": "code",
   "execution_count": 56,
   "metadata": {},
   "outputs": [
    {
     "name": "stdout",
     "output_type": "stream",
     "text": [
      "Predicted price of a 1650 sq-ft, 3 br house\n",
      "using gradient descent: \n",
      "[293081.4643349]\n"
     ]
    }
   ],
   "source": [
    "price = None\n",
    "# Estimate the price of a 1650 sq-ft, 3 br house\n",
    "####### START CODE ###########\n",
    "\n",
    "price = h_of_x(example_norm, theta)\n",
    "\n",
    "####### END CODE ############\n",
    "\n",
    "print ('Predicted price of a 1650 sq-ft, 3 br house')\n",
    "print ('using gradient descent: ')\n",
    "print (price)"
   ]
  },
  {
   "cell_type": "code",
   "execution_count": null,
   "metadata": {},
   "outputs": [],
   "source": []
  }
 ],
 "metadata": {
  "kernelspec": {
   "display_name": "Python 3",
   "language": "python",
   "name": "python3"
  },
  "language_info": {
   "codemirror_mode": {
    "name": "ipython",
    "version": 3
   },
   "file_extension": ".py",
   "mimetype": "text/x-python",
   "name": "python",
   "nbconvert_exporter": "python",
   "pygments_lexer": "ipython3",
   "version": "3.6.5"
  }
 },
 "nbformat": 4,
 "nbformat_minor": 2
}
