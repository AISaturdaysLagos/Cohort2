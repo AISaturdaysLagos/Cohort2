{
 "cells": [
  {
   "cell_type": "markdown",
   "metadata": {},
   "source": [
    "## K-means"
   ]
  },
  {
   "cell_type": "markdown",
   "metadata": {},
   "source": [
    "Import libraries"
   ]
  },
  {
   "cell_type": "code",
   "execution_count": 1,
   "metadata": {},
   "outputs": [],
   "source": [
    "import numpy as np\n",
    "import pandas as pd\n",
    "import scipy\n",
    "from scipy.io import loadmat\n",
    "import matplotlib.pyplot as plt"
   ]
  },
  {
   "cell_type": "markdown",
   "metadata": {},
   "source": [
    "Load data"
   ]
  },
  {
   "cell_type": "code",
   "execution_count": 2,
   "metadata": {},
   "outputs": [],
   "source": [
    "X = loadmat('data/ex7data2.mat')['X']"
   ]
  },
  {
   "cell_type": "code",
   "execution_count": 3,
   "metadata": {},
   "outputs": [
    {
     "data": {
      "text/plain": [
       "(300, 2)"
      ]
     },
     "execution_count": 3,
     "metadata": {},
     "output_type": "execute_result"
    }
   ],
   "source": [
    "X.shape"
   ]
  },
  {
   "cell_type": "markdown",
   "metadata": {},
   "source": [
    "scatter plot of data"
   ]
  },
  {
   "cell_type": "code",
   "execution_count": 4,
   "metadata": {},
   "outputs": [
    {
     "data": {
      "text/plain": [
       "<matplotlib.collections.PathCollection at 0x7ff462f5d048>"
      ]
     },
     "execution_count": 4,
     "metadata": {},
     "output_type": "execute_result"
    },
    {
     "data": {
      "image/png": "[encoded data removed]",
      "text/plain": [
       "<Figure size 432x288 with 1 Axes>"
      ]
     },
     "metadata": {
      "needs_background": "light"
     },
     "output_type": "display_data"
    }
   ],
   "source": [
    "plt.scatter(X[:,0],X[:,1], marker='+')"
   ]
  },
  {
   "cell_type": "markdown",
   "metadata": {},
   "source": [
    "define and implement functions for k-means"
   ]
  },
  {
   "cell_type": "code",
   "execution_count": 5,
   "metadata": {},
   "outputs": [],
   "source": [
    "'''\n",
    "X : examples\n",
    "k : no of clusters/centroids\n",
    "x : centroids\n",
    "'''\n",
    "def initCent(X, k):\n",
    "    '''\n",
    "    initialize k centroids\n",
    "    '''\n",
    "    i = np.random.choice(X.shape[0], k)\n",
    "    x = X[i]\n",
    "    return x\n",
    "\n",
    "def plt_X_cent(X, x):\n",
    "    '''\n",
    "    scatter plot of centroids and examples\n",
    "    \n",
    "    '''\n",
    "    plt.scatter(X[:,0],X[:,1], marker='+')\n",
    "    plt.scatter(x[:,0],x[:,1], color='r')\n",
    "    \n",
    "def get_closer_exam(X,x):\n",
    "    '''\n",
    "    Obtain examples that are closer to each centroid\n",
    "    '''\n",
    "    c = []\n",
    "    for i in range(X.shape[0]):\n",
    "        pos = np.argmin(np.sqrt(np.sum((X[i] - x)**2, axis=1)))\n",
    "        c.append(pos)\n",
    "    return c\n",
    "        \n",
    "def move_cent(X, c):\n",
    "    '''\n",
    "    move the centroids position closer to its clustering examples\n",
    "    '''\n",
    "    for i in range(3):\n",
    "        x[i] = (1.0/X[np.array(c) == i].shape[0])*np.sum(X[np.array(c) == i], axis = 0)\n",
    "    return x\n",
    "\n",
    "def plt_cluster(X,x, c):\n",
    "    '''\n",
    "    plot all clusters\n",
    "    '''\n",
    "    for i in range(3):\n",
    "        plt.scatter(X[np.array(c)==i][:,0], X[np.array(c)==i][:,1], marker='+')\n",
    "        plt.scatter(x[:,0],x[:,1], color='r')\n",
    "\n",
    "def distortion(X, x, c):\n",
    "    '''\n",
    "    A measure of how well the clusters are formed\n",
    "    '''\n",
    "    distances = []\n",
    "    for i in range(x.shape[0]):\n",
    "        dis = (1.0/X[np.array(c) == i].shape[0])*np.sum(np.sqrt(np.sum((X[np.array(c) == i]-x[i])**2, axis=1)))\n",
    "        distances.append(dis)\n",
    "    \n",
    "    return distances, (1.0/len(distances))*np.sum(np.array(distances))"
   ]
  },
  {
   "cell_type": "markdown",
   "metadata": {},
   "source": [
    "## Test Run\n",
    "\n",
    "initialize centroids positions"
   ]
  },
  {
   "cell_type": "code",
   "execution_count": 6,
   "metadata": {},
   "outputs": [],
   "source": [
    "x = initCent(X,3)"
   ]
  },
  {
   "cell_type": "code",
   "execution_count": 7,
   "metadata": {},
   "outputs": [
    {
     "data": {
      "image/png": "[encoded data removed]",
      "text/plain": [
       "<Figure size 432x288 with 1 Axes>"
      ]
     },
     "metadata": {
      "needs_background": "light"
     },
     "output_type": "display_data"
    }
   ],
   "source": [
    "plt_X_cent(X,x)"
   ]
  },
  {
   "cell_type": "markdown",
   "metadata": {},
   "source": [
    "find examples closer to each centroid"
   ]
  },
  {
   "cell_type": "code",
   "execution_count": 8,
   "metadata": {},
   "outputs": [],
   "source": [
    "c = get_closer_exam(X, x)"
   ]
  },
  {
   "cell_type": "markdown",
   "metadata": {},
   "source": [
    "move each centroid position based on it clusters"
   ]
  },
  {
   "cell_type": "code",
   "execution_count": 9,
   "metadata": {},
   "outputs": [],
   "source": [
    "x = move_cent(X, c)"
   ]
  },
  {
   "cell_type": "code",
   "execution_count": 10,
   "metadata": {},
   "outputs": [
    {
     "data": {
      "image/png": "[encoded data removed]",
      "text/plain": [
       "<Figure size 432x288 with 1 Axes>"
      ]
     },
     "metadata": {
      "needs_background": "light"
     },
     "output_type": "display_data"
    }
   ],
   "source": [
    "plt_cluster(X, x,  c)"
   ]
  },
  {
   "cell_type": "markdown",
   "metadata": {},
   "source": [
    "obtain the distortion"
   ]
  },
  {
   "cell_type": "code",
   "execution_count": 11,
   "metadata": {},
   "outputs": [],
   "source": [
    "dists, dist = distortion(X,x,c)"
   ]
  },
  {
   "cell_type": "code",
   "execution_count": 12,
   "metadata": {},
   "outputs": [
    {
     "data": {
      "text/plain": [
       "1.3179097944259426"
      ]
     },
     "execution_count": 12,
     "metadata": {},
     "output_type": "execute_result"
    }
   ],
   "source": [
    "dist"
   ]
  },
  {
   "cell_type": "markdown",
   "metadata": {},
   "source": [
    "This steps are usually performed iteratively"
   ]
  },
  {
   "cell_type": "code",
   "execution_count": 13,
   "metadata": {},
   "outputs": [],
   "source": [
    "\n",
    "k = 3\n",
    "x = initCent(X, k)\n",
    "distorts = []\n",
    "for i in range(10):\n",
    "    c = get_closer_exam(X, x)\n",
    "    _, dist = distortion(X, x, c)\n",
    "    distorts.append(dist)\n",
    "    x = move_cent(X, c)"
   ]
  },
  {
   "cell_type": "code",
   "execution_count": 14,
   "metadata": {},
   "outputs": [
    {
     "data": {
      "text/plain": [
       "[1.224921837114116,\n",
       " 1.2389858220534447,\n",
       " 1.440266497114963,\n",
       " 1.4560084789027707,\n",
       " 0.8603909349939611,\n",
       " 0.7936677980235035,\n",
       " 0.7942678193768536,\n",
       " 0.7942678193768536,\n",
       " 0.7942678193768536,\n",
       " 0.7942678193768536]"
      ]
     },
     "execution_count": 14,
     "metadata": {},
     "output_type": "execute_result"
    }
   ],
   "source": [
    "distorts"
   ]
  },
  {
   "cell_type": "markdown",
   "metadata": {},
   "source": [
    "plot of distortion at each iteration step"
   ]
  },
  {
   "cell_type": "code",
   "execution_count": 15,
   "metadata": {},
   "outputs": [
    {
     "data": {
      "text/plain": [
       "[<matplotlib.lines.Line2D at 0x7ff462dbd160>]"
      ]
     },
     "execution_count": 15,
     "metadata": {},
     "output_type": "execute_result"
    },
    {
     "data": {
      "image/png": "[encoded data removed]",
      "text/plain": [
       "<Figure size 432x288 with 1 Axes>"
      ]
     },
     "metadata": {
      "needs_background": "light"
     },
     "output_type": "display_data"
    }
   ],
   "source": [
    "plt.plot(range(len(distorts)), distorts)"
   ]
  },
  {
   "cell_type": "code",
   "execution_count": 16,
   "metadata": {},
   "outputs": [
    {
     "data": {
      "image/png": "[encoded data removed]",
      "text/plain": [
       "<Figure size 432x288 with 1 Axes>"
      ]
     },
     "metadata": {
      "needs_background": "light"
     },
     "output_type": "display_data"
    }
   ],
   "source": [
    "plt_cluster(X,x,c)"
   ]
  },
  {
   "cell_type": "code",
   "execution_count": null,
   "metadata": {},
   "outputs": [],
   "source": []
  }
 ],
 "metadata": {
  "kernelspec": {
   "display_name": "Python 3",
   "language": "python",
   "name": "python3"
  },
  "language_info": {
   "codemirror_mode": {
    "name": "ipython",
    "version": 3
   },
   "file_extension": ".py",
   "mimetype": "text/x-python",
   "name": "python",
   "nbconvert_exporter": "python",
   "pygments_lexer": "ipython3",
   "version": "3.6.5"
  }
 },
 "nbformat": 4,
 "nbformat_minor": 2
}
